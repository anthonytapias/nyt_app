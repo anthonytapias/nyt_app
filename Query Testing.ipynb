{
 "cells": [
  {
   "cell_type": "code",
   "execution_count": 1,
   "metadata": {},
   "outputs": [],
   "source": [
    "from package import *\n",
    "from sqlalchemy import func"
   ]
  },
  {
   "cell_type": "code",
   "execution_count": 6,
   "metadata": {},
   "outputs": [],
   "source": [
    "### FIND SORTED ARTICLE SECTIONS WITH COUNT FOR OBAMA)\n",
    "obama_section_w_count=db.session.query(Article.section, func.count(Article.section)).filter(Article.president_id==1).group_by(Article.section).all()\n",
    "obama_sorted_section_count=sorted(obama_section_w_count, key=lambda x:x[1], reverse=True)"
   ]
  },
  {
   "cell_type": "code",
   "execution_count": 8,
   "metadata": {},
   "outputs": [],
   "source": [
    "### FIND SORTED ARTICLE SECTIONS WITH COUNT FOR TRUMP)\n",
    "trump_section_w_count=db.session.query(Article.section, func.count(Article.section)).filter(Article.president_id==2).group_by(Article.section).all()\n",
    "trump_sorted_section_count=sorted(trump_section_w_count, key=lambda x:x[1], reverse=True)"
   ]
  },
  {
   "cell_type": "code",
   "execution_count": 15,
   "metadata": {},
   "outputs": [
    {
     "data": {
      "text/plain": [
       "[('National', 476),\n",
       " ('Business', 153),\n",
       " ('Foreign', 138),\n",
       " ('Metro', 134),\n",
       " ('Metropolitan Desk', 94),\n",
       " ('Letters', 59),\n",
       " ('Editorial', 54),\n",
       " ('National Desk', 52),\n",
       " ('Culture', 43),\n",
       " ('WeekInReview', 42),\n",
       " ('OpEd', 34),\n",
       " ('Magazine', 31),\n",
       " ('Weekend', 26),\n",
       " ('Regionals', 25),\n",
       " ('Styles', 21),\n",
       " ('BookReview', 19),\n",
       " ('SundayBusiness', 19),\n",
       " ('Summary', 18),\n",
       " ('U.S. / Politics', 17),\n",
       " ('The Arts/Cultural Desk', 16),\n",
       " ('Science', 14),\n",
       " ('Arts&Leisure', 13),\n",
       " ('Foreign Desk', 11),\n",
       " ('Book Review Desk', 10),\n",
       " ('ContinuousNews', 10),\n",
       " ('Washington', 10),\n",
       " ('Sports', 9),\n",
       " ('Business/Financial Desk', 8),\n",
       " ('None', 8),\n",
       " ('Classified', 5),\n",
       " ('Editorial Desk', 5),\n",
       " ('Westchester Weekly Desk', 5),\n",
       " ('Movies, Performing Arts/Weekend Desk', 4),\n",
       " ('Week in Review Desk', 4),\n",
       " ('Education Life Supplement', 3),\n",
       " ('Society', 3),\n",
       " ('0', 2),\n",
       " ('Arts and Leisure Desk', 2),\n",
       " ('Dining', 2),\n",
       " ('EdLife', 2),\n",
       " ('Magazine Desk', 2),\n",
       " ('Money and Business/Financial Desk', 2),\n",
       " ('New Jersey Weekly Desk', 2),\n",
       " ('Obits', 2),\n",
       " ('RealEstate', 2),\n",
       " ('Science Desk', 2),\n",
       " ('SpecialSections', 2),\n",
       " ('Style Desk', 2),\n",
       " ('TStyle', 2),\n",
       " ('Travel', 2),\n",
       " ('Travel Desk', 2),\n",
       " ('4A', 1),\n",
       " ('CityWeekly', 1),\n",
       " ('Obituary', 1),\n",
       " ('Opinion', 1),\n",
       " ('Sports Desk', 1),\n",
       " ('T: Design Magazine', 1),\n",
       " ('The Business of Green', 1),\n",
       " ('U.S.', 1),\n",
       " ('World / Africa', 1),\n",
       " ('Your Money', 1),\n",
       " (None, 0)]"
      ]
     },
     "execution_count": 15,
     "metadata": {},
     "output_type": "execute_result"
    }
   ],
   "source": [
    "obama_sorted_section_count"
   ]
  },
  {
   "cell_type": "code",
   "execution_count": 16,
   "metadata": {},
   "outputs": [
    {
     "data": {
      "text/plain": [
       "[('News', 657),\n",
       " ('Obama, Barack', 476),\n",
       " ('United States Politics and Government', 279),\n",
       " ('Presidential Election of 2008', 140),\n",
       " ('United States Economy', 139),\n",
       " ('Senate', 127),\n",
       " ('Health Insurance and Managed Care', 108),\n",
       " ('Democratic Party', 99),\n",
       " ('Reform and Reorganization', 93),\n",
       " ('United States International Relations', 89),\n",
       " ('House of Representatives', 85),\n",
       " ('Appointments and Executive Changes', 83),\n",
       " ('Subprime Mortgage Crisis', 79),\n",
       " ('Law and Legislation', 77),\n",
       " ('Republican Party', 72)]"
      ]
     },
     "execution_count": 16,
     "metadata": {},
     "output_type": "execute_result"
    }
   ],
   "source": [
    "### FIND SORTED KEYWORD LIST(ALL TYPES) WITH COUNT FOR OBAMA)\n",
    "obama_keyword_w_count=db.session.query(Keyword.value, func.count(Keyword.value)).filter(Keyword.president_id==1).group_by(Keyword.value).all()\n",
    "obama_sorted_keyword_count=sorted(obama_keyword_w_count, key=lambda x:x[1], reverse=True)\n",
    "obama_sorted_keyword_count[:15]"
   ]
  },
  {
   "cell_type": "code",
   "execution_count": 4,
   "metadata": {},
   "outputs": [],
   "source": [
    "# ### FIND SORTED KEYWORD LIST(PEOPLE) WITH COUNT FOR OBAMA)\n",
    "obama_people_keyword_w_count=db.session.query(Keyword.value, func.count(Keyword.value)).filter(Keyword.president_id==1).filter(Keyword.category=='persons').group_by(Keyword.value).all()\n",
    "obama_sorted_people_keyword_count=sorted(obama_people_keyword_w_count, key=lambda x:x[1], reverse=True)"
   ]
  },
  {
   "cell_type": "code",
   "execution_count": 5,
   "metadata": {},
   "outputs": [],
   "source": [
    "# ### FIND SORTED KEYWORD LIST(SUBJECT) WITH COUNT FOR OBAMA)\n",
    "# obama_subject_keyword_w_count=db.session.query(Keyword.value, func.count(Keyword.value)).filter(Keyword.president_id==1).filter(Keyword.category=='subject').group_by(Keyword.value).all()\n",
    "# obama_sorted_subject_keyword_count=sorted(obama_subject_keyword_w_count, key=lambda x:x[1], reverse=True)"
   ]
  },
  {
   "cell_type": "code",
   "execution_count": 6,
   "metadata": {},
   "outputs": [],
   "source": [
    "# ### FIND SORTED KEYWORD LIST(GEOLOCATION) WITH COUNT FOR OBAMA)\n",
    "# obama_location_keyword_w_count=db.session.query(Keyword.value, func.count(Keyword.value)).filter(Keyword.president_id==1).filter(Keyword.category=='glocations').group_by(Keyword.value).all()\n",
    "# obama_sorted_location_keyword_count=sorted(obama_location_keyword_w_count, key=lambda x:x[1], reverse=True)"
   ]
  },
  {
   "cell_type": "code",
   "execution_count": 7,
   "metadata": {},
   "outputs": [],
   "source": [
    "# ### FIND SORTED KEYWORD LIST(ORGANIZATION) WITH COUNT FOR OBAMA)\n",
    "# obama_organization_keyword_w_count=db.session.query(Keyword.value, func.count(Keyword.value)).filter(Keyword.president_id==1).filter(Keyword.category=='organizations').group_by(Keyword.value).all()\n",
    "# obama_sorted_organization_keyword_count=sorted(obama_organization_keyword_w_count, key=lambda x:x[1], reverse=True)"
   ]
  },
  {
   "cell_type": "code",
   "execution_count": 8,
   "metadata": {},
   "outputs": [],
   "source": [
    "# ### FIND SORTED KEYWORD LIST(ALL TYPES) WITH COUNT FOR TRUMP)\n",
    "# trump_keyword_w_count=db.session.query(Keyword.value, func.count(Keyword.value)).filter(Keyword.president_id==2).group_by(Keyword.value).all()\n",
    "# trump_sorted_keyword_count=sorted(trump_keyword_w_count, key=lambda x:x[1], reverse=True)"
   ]
  },
  {
   "cell_type": "code",
   "execution_count": 9,
   "metadata": {},
   "outputs": [],
   "source": [
    "# ### FIND SORTED KEYWORD LIST(PEOPLE) WITH COUNT FOR TRUMP)\n",
    "# trump_people_keyword_w_count=db.session.query(Keyword.value, func.count(Keyword.value)).filter(Keyword.president_id==2).filter(Keyword.category=='persons').group_by(Keyword.value).all()\n",
    "# trump_sorted_people_keyword_count=sorted(trump_people_keyword_w_count, key=lambda x:x[1], reverse=True)"
   ]
  },
  {
   "cell_type": "code",
   "execution_count": 10,
   "metadata": {},
   "outputs": [],
   "source": [
    "# ### FIND SORTED KEYWORD LIST(SUBJECT) WITH COUNT FOR TRUMP)\n",
    "# trump_subject_keyword_w_count=db.session.query(Keyword.value, func.count(Keyword.value)).filter(Keyword.president_id==2).filter(Keyword.category=='subject').group_by(Keyword.value).all()\n",
    "# trump_sorted_subject_keyword_count=sorted(trump_subject_keyword_w_count, key=lambda x:x[1], reverse=True)"
   ]
  },
  {
   "cell_type": "code",
   "execution_count": 11,
   "metadata": {},
   "outputs": [],
   "source": [
    "# ### FIND SORTED KEYWORD LIST(GEOLOCATION) WITH COUNT FOR TRUMP)\n",
    "# trump_location_keyword_w_count=db.session.query(Keyword.value, func.count(Keyword.value)).filter(Keyword.president_id==2).filter(Keyword.category=='glocations').group_by(Keyword.value).all()\n",
    "# trump_sorted_location_keyword_count=sorted(trump_location_keyword_w_count, key=lambda x:x[1], reverse=True)"
   ]
  },
  {
   "cell_type": "code",
   "execution_count": 12,
   "metadata": {},
   "outputs": [],
   "source": [
    "# ### FIND SORTED KEYWORD LIST(ORGANIZATION) WITH COUNT FOR TRUMP)\n",
    "# trump_organization_keyword_w_count=db.session.query(Keyword.value, func.count(Keyword.value)).filter(Keyword.president_id==2).filter(Keyword.category=='organizations').group_by(Keyword.value).all()\n",
    "# trump_sorted_organization_keyword_count=sorted(trump_organization_keyword_w_count, key=lambda x:x[1], reverse=True)"
   ]
  }
 ],
 "metadata": {
  "kernelspec": {
   "display_name": "Python 3",
   "language": "python",
   "name": "python3"
  },
  "language_info": {
   "codemirror_mode": {
    "name": "ipython",
    "version": 3
   },
   "file_extension": ".py",
   "mimetype": "text/x-python",
   "name": "python",
   "nbconvert_exporter": "python",
   "pygments_lexer": "ipython3",
   "version": "3.6.6"
  }
 },
 "nbformat": 4,
 "nbformat_minor": 2
}
