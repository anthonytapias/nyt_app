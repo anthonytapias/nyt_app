{
 "cells": [
  {
   "cell_type": "code",
   "execution_count": 1,
   "metadata": {},
   "outputs": [],
   "source": [
    "from package import *\n",
    "from sqlalchemy import func"
   ]
  },
  {
   "cell_type": "code",
   "execution_count": null,
   "metadata": {},
   "outputs": [],
   "source": [
    "### FIND SORTED ARTICLE SECTIONS WITH COUNT FOR OBAMA)\n",
    "obama_section_w_count=db.session.query(Article.section, func.count(Article.section)).filter(Keyword.president_id==1).group_by(Article.section).all()\n",
    "obama_sorted_section_count=sorted(obama_section_w_count, key=lambda x:x[1], reverse=True)"
   ]
  },
  {
   "cell_type": "code",
   "execution_count": 13,
   "metadata": {},
   "outputs": [],
   "source": [
    "### FIND SORTED KEYWORD LIST(ALL TYPES) WITH COUNT FOR OBAMA)\n",
    "obama_keyword_w_count=db.session.query(Keyword.value, func.count(Keyword.value)).filter(Keyword.president_id==1).group_by(Keyword.value).all()\n",
    "obama_sorted_keyword_count=sorted(obama_keyword_w_count, key=lambda x:x[1], reverse=True)"
   ]
  },
  {
   "cell_type": "code",
   "execution_count": 4,
   "metadata": {},
   "outputs": [],
   "source": [
    "# ### FIND SORTED KEYWORD LIST(PEOPLE) WITH COUNT FOR OBAMA)\n",
    "# obama_people_keyword_w_count=db.session.query(Keyword.value, func.count(Keyword.value)).filter(Keyword.president_id==1).filter(Keyword.category=='persons').group_by(Keyword.value).all()\n",
    "# obama_sorted_people_keyword_count=sorted(obama_people_keyword_w_count, key=lambda x:x[1], reverse=True)"
   ]
  },
  {
   "cell_type": "code",
   "execution_count": 5,
   "metadata": {},
   "outputs": [],
   "source": [
    "# ### FIND SORTED KEYWORD LIST(SUBJECT) WITH COUNT FOR OBAMA)\n",
    "# obama_subject_keyword_w_count=db.session.query(Keyword.value, func.count(Keyword.value)).filter(Keyword.president_id==1).filter(Keyword.category=='subject').group_by(Keyword.value).all()\n",
    "# obama_sorted_subject_keyword_count=sorted(obama_subject_keyword_w_count, key=lambda x:x[1], reverse=True)"
   ]
  },
  {
   "cell_type": "code",
   "execution_count": 6,
   "metadata": {},
   "outputs": [],
   "source": [
    "# ### FIND SORTED KEYWORD LIST(GEOLOCATION) WITH COUNT FOR OBAMA)\n",
    "# obama_location_keyword_w_count=db.session.query(Keyword.value, func.count(Keyword.value)).filter(Keyword.president_id==1).filter(Keyword.category=='glocations').group_by(Keyword.value).all()\n",
    "# obama_sorted_location_keyword_count=sorted(obama_location_keyword_w_count, key=lambda x:x[1], reverse=True)"
   ]
  },
  {
   "cell_type": "code",
   "execution_count": 7,
   "metadata": {},
   "outputs": [],
   "source": [
    "# ### FIND SORTED KEYWORD LIST(ORGANIZATION) WITH COUNT FOR OBAMA)\n",
    "# obama_organization_keyword_w_count=db.session.query(Keyword.value, func.count(Keyword.value)).filter(Keyword.president_id==1).filter(Keyword.category=='organizations').group_by(Keyword.value).all()\n",
    "# obama_sorted_organization_keyword_count=sorted(obama_organization_keyword_w_count, key=lambda x:x[1], reverse=True)"
   ]
  },
  {
   "cell_type": "code",
   "execution_count": 8,
   "metadata": {},
   "outputs": [],
   "source": [
    "# ### FIND SORTED KEYWORD LIST(ALL TYPES) WITH COUNT FOR TRUMP)\n",
    "# trump_keyword_w_count=db.session.query(Keyword.value, func.count(Keyword.value)).filter(Keyword.president_id==2).group_by(Keyword.value).all()\n",
    "# trump_sorted_keyword_count=sorted(trump_keyword_w_count, key=lambda x:x[1], reverse=True)"
   ]
  },
  {
   "cell_type": "code",
   "execution_count": 9,
   "metadata": {},
   "outputs": [],
   "source": [
    "# ### FIND SORTED KEYWORD LIST(PEOPLE) WITH COUNT FOR TRUMP)\n",
    "# trump_people_keyword_w_count=db.session.query(Keyword.value, func.count(Keyword.value)).filter(Keyword.president_id==2).filter(Keyword.category=='persons').group_by(Keyword.value).all()\n",
    "# trump_sorted_people_keyword_count=sorted(trump_people_keyword_w_count, key=lambda x:x[1], reverse=True)"
   ]
  },
  {
   "cell_type": "code",
   "execution_count": 10,
   "metadata": {},
   "outputs": [],
   "source": [
    "# ### FIND SORTED KEYWORD LIST(SUBJECT) WITH COUNT FOR TRUMP)\n",
    "# trump_subject_keyword_w_count=db.session.query(Keyword.value, func.count(Keyword.value)).filter(Keyword.president_id==2).filter(Keyword.category=='subject').group_by(Keyword.value).all()\n",
    "# trump_sorted_subject_keyword_count=sorted(trump_subject_keyword_w_count, key=lambda x:x[1], reverse=True)"
   ]
  },
  {
   "cell_type": "code",
   "execution_count": 11,
   "metadata": {},
   "outputs": [],
   "source": [
    "# ### FIND SORTED KEYWORD LIST(GEOLOCATION) WITH COUNT FOR TRUMP)\n",
    "# trump_location_keyword_w_count=db.session.query(Keyword.value, func.count(Keyword.value)).filter(Keyword.president_id==2).filter(Keyword.category=='glocations').group_by(Keyword.value).all()\n",
    "# trump_sorted_location_keyword_count=sorted(trump_location_keyword_w_count, key=lambda x:x[1], reverse=True)"
   ]
  },
  {
   "cell_type": "code",
   "execution_count": 12,
   "metadata": {},
   "outputs": [],
   "source": [
    "# ### FIND SORTED KEYWORD LIST(ORGANIZATION) WITH COUNT FOR TRUMP)\n",
    "# trump_organization_keyword_w_count=db.session.query(Keyword.value, func.count(Keyword.value)).filter(Keyword.president_id==2).filter(Keyword.category=='organizations').group_by(Keyword.value).all()\n",
    "# trump_sorted_organization_keyword_count=sorted(trump_organization_keyword_w_count, key=lambda x:x[1], reverse=True)"
   ]
  }
 ],
 "metadata": {
  "kernelspec": {
   "display_name": "Python 3",
   "language": "python",
   "name": "python3"
  },
  "language_info": {
   "codemirror_mode": {
    "name": "ipython",
    "version": 3
   },
   "file_extension": ".py",
   "mimetype": "text/x-python",
   "name": "python",
   "nbconvert_exporter": "python",
   "pygments_lexer": "ipython3",
   "version": "3.6.6"
  }
 },
 "nbformat": 4,
 "nbformat_minor": 2
}
